{
  "cells": [
    {
      "cell_type": "code",
      "source": [
        "print(45+18)\n",
        "print(30-12)\n",
        "print(15*6)\n",
        "print(30/3)\n",
        "print(45%8)"
      ],
      "metadata": {
        "id": "c2qFJEuR6BCH",
        "outputId": "e710c03d-3be3-4871-fd86-33d523391db1",
        "colab": {
          "base_uri": "https://localhost:8080/"
        }
      },
      "execution_count": null,
      "outputs": [
        {
          "output_type": "stream",
          "name": "stdout",
          "text": [
            "63\n",
            "18\n",
            "90\n",
            "10.0\n",
            "5\n"
          ]
        }
      ]
    },
    {
      "cell_type": "code",
      "source": [
        "print(type(30 / 3))"
      ],
      "metadata": {
        "id": "LUYc1qbV6XPz",
        "outputId": "bbad8a02-a990-45d0-9b86-ae096d4be740",
        "colab": {
          "base_uri": "https://localhost:8080/"
        }
      },
      "execution_count": null,
      "outputs": [
        {
          "output_type": "stream",
          "name": "stdout",
          "text": [
            "<class 'float'>\n"
          ]
        }
      ]
    },
    {
      "cell_type": "code",
      "source": [
        "print(45 + 1.8)\n",
        "print(3 - 1.2)\n",
        "print(15 * 0.6)\n",
        "print(3 /0.3)\n",
        "print(45%0.8)"
      ],
      "metadata": {
        "id": "qHhnSST66eXZ",
        "outputId": "b28c6d98-e10e-423a-c03f-ed3c60b05caa",
        "colab": {
          "base_uri": "https://localhost:8080/"
        }
      },
      "execution_count": null,
      "outputs": [
        {
          "output_type": "stream",
          "name": "stdout",
          "text": [
            "46.8\n",
            "1.8\n",
            "9.0\n",
            "10.0\n",
            "0.1999999999999975\n"
          ]
        }
      ]
    },
    {
      "cell_type": "code",
      "source": [
        "print(\"今日の天気は\"+\"晴れ\")\n",
        "print(\"今日の天気は\" \"曇り\")"
      ],
      "metadata": {
        "id": "Il0bx1_g7d_l",
        "outputId": "a038780c-55de-49ee-cfcd-d503d6381211",
        "colab": {
          "base_uri": "https://localhost:8080/"
        }
      },
      "execution_count": null,
      "outputs": [
        {
          "output_type": "stream",
          "name": "stdout",
          "text": [
            "今日の天気は晴れ\n",
            "今日の天気は曇り\n"
          ]
        }
      ]
    },
    {
      "cell_type": "code",
      "source": [
        "print(\"降水確率\" + str(50) + \"％\")"
      ],
      "metadata": {
        "id": "WOvHxksB7zGx",
        "outputId": "248f7278-ffd7-4d0c-80fe-d8f8bc9eb8e6",
        "colab": {
          "base_uri": "https://localhost:8080/"
        }
      },
      "execution_count": null,
      "outputs": [
        {
          "output_type": "stream",
          "name": "stdout",
          "text": [
            "降水確率50％\n"
          ]
        }
      ]
    },
    {
      "cell_type": "code",
      "source": [
        "print(\"晴れ\" * 5)\n",
        "print(\"晴れ\" + \"晴れ\" + \"晴れ\" + \"晴れ\" + \"晴れ\")"
      ],
      "metadata": {
        "id": "NqmbZqtX78xw",
        "outputId": "0bcaf383-4190-461e-c23a-030f2c44794c",
        "colab": {
          "base_uri": "https://localhost:8080/"
        }
      },
      "execution_count": null,
      "outputs": [
        {
          "output_type": "stream",
          "name": "stdout",
          "text": [
            "晴れ晴れ晴れ晴れ晴れ\n",
            "晴れ晴れ晴れ晴れ晴れ\n"
          ]
        }
      ]
    },
    {
      "cell_type": "code",
      "source": [
        "user_name = \"侍太郎\"\n",
        "print(user_name)\n",
        "\n",
        "user_name = \"侍花子\"\n",
        "print(user_name)"
      ],
      "metadata": {
        "id": "XD4-UxOd8LcC",
        "outputId": "f0e5d9c5-132f-4c0a-e029-7d2da07ea237",
        "colab": {
          "base_uri": "https://localhost:8080/"
        }
      },
      "execution_count": null,
      "outputs": [
        {
          "output_type": "stream",
          "name": "stdout",
          "text": [
            "侍太郎\n",
            "侍花子\n"
          ]
        }
      ]
    },
    {
      "cell_type": "code",
      "source": [
        "# 整数型と浮動小数点型の足し算\n",
        "number1 = 5\n",
        "number2 = 2.5\n",
        "print(number1 + number2)\n",
        "\n",
        "# 文字列型と文字列型の連結\n",
        "last_name = \"侍\"\n",
        "first_name = \"太郎\"\n",
        "print(last_name + first_name)"
      ],
      "metadata": {
        "id": "79c4Mhgu8p99",
        "outputId": "33f96cb3-11bc-460a-dd13-8a84b2f4dc90",
        "colab": {
          "base_uri": "https://localhost:8080/"
        }
      },
      "execution_count": null,
      "outputs": [
        {
          "output_type": "stream",
          "name": "stdout",
          "text": [
            "7.5\n",
            "侍太郎\n"
          ]
        }
      ]
    },
    {
      "cell_type": "code",
      "source": [
        "last_name = \"侍\"\n",
        "first_name = \"太郎\"\n",
        "sister_name = \"花子\"\n",
        "\n",
        "# 3つの変数を文字列内に埋め込んで表示\n",
        "print(f\"私の名前は{last_name}{first_name}です．妹の名前は{sister_name}です．\")"
      ],
      "metadata": {
        "id": "ZQz9xOto9UX6",
        "outputId": "b2c78f16-1f73-47a7-b470-7382338285c7",
        "colab": {
          "base_uri": "https://localhost:8080/"
        }
      },
      "execution_count": null,
      "outputs": [
        {
          "output_type": "stream",
          "name": "stdout",
          "text": [
            "私の名前は侍太郎です．妹の名前は花子です．\n"
          ]
        }
      ]
    },
    {
      "cell_type": "code",
      "source": [
        "user_names = [\"侍太郎\", \"侍一郎\", \"侍二郎\", \"侍三郎\", \"侍四郎\"]\n",
        "\n",
        "# 6番目の要素を追加する\n",
        "user_names.append(\"侍五郎\")\n",
        "print(user_names)\n",
        "\n",
        "# 3番目の要素を削除する\n",
        "user_names.pop(2) # 0始まりのため．3番目のインデックスは2\n",
        "print(user_names)"
      ],
      "metadata": {
        "id": "eDNhI8zj9-FT",
        "colab": {
          "base_uri": "https://localhost:8080/"
        },
        "outputId": "020f3a99-55b4-4a10-9e23-8a6264d8ba01"
      },
      "execution_count": 1,
      "outputs": [
        {
          "output_type": "stream",
          "name": "stdout",
          "text": [
            "['侍太郎', '侍一郎', '侍二郎', '侍三郎', '侍四郎', '侍五郎']\n",
            "['侍太郎', '侍一郎', '侍三郎', '侍四郎', '侍五郎']\n"
          ]
        }
      ]
    },
    {
      "cell_type": "code",
      "source": [
        "user_names = [\"侍太郎\", \"侍一郎\", \"侍二郎\", \"侍三郎\", \"侍四郎\"]\n",
        "\n",
        "print(user_names[1]) # 2番目の要素だけを表示\n",
        "\n",
        "user_names[1] = \"侍花子\" # 2番目の要素を更新\n",
        "print(user_names)\n",
        "\n",
        "user_names.append(\"侍五郎\") # 6番目の要素を追加\n",
        "print(user_names)\n",
        "\n",
        "user_names.pop(2) # 3番目の要素を削除 (0始まりのため2を指定)\n",
        "print(user_names)\n"
      ],
      "metadata": {
        "colab": {
          "base_uri": "https://localhost:8080/"
        },
        "id": "KZYEAuiN65vQ",
        "outputId": "4554add7-dfc1-47a7-d20d-d9eb72edbda0"
      },
      "execution_count": 2,
      "outputs": [
        {
          "output_type": "stream",
          "name": "stdout",
          "text": [
            "侍一郎\n",
            "['侍太郎', '侍花子', '侍二郎', '侍三郎', '侍四郎']\n",
            "['侍太郎', '侍花子', '侍二郎', '侍三郎', '侍四郎', '侍五郎']\n",
            "['侍太郎', '侍花子', '侍三郎', '侍四郎', '侍五郎']\n"
          ]
        }
      ]
    },
    {
      "cell_type": "code",
      "source": [
        "country_names = (\"日本\", \"アメリカ\", \"イギリス\", \"フランス\")\n",
        "\n",
        "# 3番目の要素を取り出す\n",
        "print(country_names[2])\n",
        "\n",
        "# すべての要素を取り出す\n",
        "print(country_names)"
      ],
      "metadata": {
        "colab": {
          "base_uri": "https://localhost:8080/"
        },
        "id": "sr2Kd3BM8ZYW",
        "outputId": "7efe9980-4a11-421b-b6b9-5d8a58026221"
      },
      "execution_count": 3,
      "outputs": [
        {
          "output_type": "stream",
          "name": "stdout",
          "text": [
            "イギリス\n",
            "('日本', 'アメリカ', 'イギリス', 'フランス')\n"
          ]
        }
      ]
    },
    {
      "cell_type": "code",
      "source": [
        "country_names = {\"アメリカ\", \"イギリス\", \"日本\", \"フランス\"}\n",
        "\n",
        "# セット全体を表示\n",
        "print(country_names)\n",
        "\n",
        "country_names.add(\"ドイツ\") #「ドイツ」をセットに追加\n",
        "print(country_names)\n",
        "\n",
        "country_names.remove(\"イギリス\") # セットから「イギリス」を削除\n",
        "print(country_names)"
      ],
      "metadata": {
        "colab": {
          "base_uri": "https://localhost:8080/"
        },
        "id": "sN-krgd89KcO",
        "outputId": "1f20996d-8b84-44da-efa1-cc1757b700dd"
      },
      "execution_count": 4,
      "outputs": [
        {
          "output_type": "stream",
          "name": "stdout",
          "text": [
            "{'イギリス', 'アメリカ', '日本', 'フランス'}\n",
            "{'日本', 'フランス', 'アメリカ', 'イギリス', 'ドイツ'}\n",
            "{'日本', 'フランス', 'アメリカ', 'ドイツ'}\n"
          ]
        }
      ]
    },
    {
      "cell_type": "code",
      "source": [
        "# 連想配列を作成\n",
        "personal_data = {\"name\" : \"侍太郎\", \"age\" : 36, \"gender\" : \"男性\"}\n",
        "\n",
        "# キー「name」の値を表示\n",
        "print(personal_data[\"name\"])\n",
        "\n",
        "# 連想配列全体を表示\n",
        "print(personal_data)\n",
        "\n",
        "# キー「age」の値を更新\n",
        "personal_data[\"age\"] = 37\n",
        "\n",
        "# 新しく要素(キーと値)を追加\n",
        "personal_data[\"adress\"] = \"東京都\"\n",
        "\n",
        "# 連想配列全体を表示\n",
        "print(personal_data)"
      ],
      "metadata": {
        "colab": {
          "base_uri": "https://localhost:8080/"
        },
        "id": "oJ9MA3mR-Fkt",
        "outputId": "f0945685-4875-4346-d6ce-97e99ef4dcce"
      },
      "execution_count": 7,
      "outputs": [
        {
          "output_type": "stream",
          "name": "stdout",
          "text": [
            "侍太郎\n",
            "{'name': '侍太郎', 'age': 36, 'gender': '男性'}\n",
            "{'name': '侍太郎', 'age': 37, 'gender': '男性', 'adress': '東京都'}\n"
          ]
        }
      ]
    },
    {
      "cell_type": "code",
      "source": [
        "print(45 + 18) # 算術演算子を使った場合の戻り値を出力する\n",
        "print(45 > 18) # 比較演算子を使った場合の戻り値を出力する"
      ],
      "metadata": {
        "colab": {
          "base_uri": "https://localhost:8080/"
        },
        "id": "fScBeTtOAGEw",
        "outputId": "43663657-4c8b-4d0e-aeca-3cdbacfd5786"
      },
      "execution_count": 8,
      "outputs": [
        {
          "output_type": "stream",
          "name": "stdout",
          "text": [
            "63\n",
            "True\n"
          ]
        }
      ]
    },
    {
      "cell_type": "code",
      "source": [
        "print(\"5\" == 5)"
      ],
      "metadata": {
        "colab": {
          "base_uri": "https://localhost:8080/"
        },
        "id": "5Iag0xQFBZ3U",
        "outputId": "22097055-a926-4f75-cbc7-60af48ca36ac"
      },
      "execution_count": 10,
      "outputs": [
        {
          "output_type": "stream",
          "name": "stdout",
          "text": [
            "False\n"
          ]
        }
      ]
    },
    {
      "cell_type": "code",
      "source": [
        "# ランダムな整数を利用するために，randomモジュールをインポート\n",
        "import random\n",
        "\n",
        "# 変数numに0～4までのランダムな整数を代入する\n",
        "num = random.randint(0, 4)\n",
        "\n",
        "# 変数numの値を出力\n",
        "print(num)\n",
        "\n",
        "# 変数numの値が4であれば，「大当たりです」という文字列を出力する\n",
        "if num == 4:\n",
        "    print(\"大当たりです\")"
      ],
      "metadata": {
        "colab": {
          "base_uri": "https://localhost:8080/"
        },
        "id": "cyeKINs_BjVE",
        "outputId": "cf6bf606-2ecc-475d-a628-1c8385b8992b"
      },
      "execution_count": 15,
      "outputs": [
        {
          "output_type": "stream",
          "name": "stdout",
          "text": [
            "4\n",
            "大当たりです\n"
          ]
        }
      ]
    },
    {
      "cell_type": "code",
      "source": [
        "# ランダムな整数を利用するために，randomモジュールをインポート\n",
        "import random\n",
        "\n",
        "# 変数numに０～４までのランダムな整数を代入する\n",
        "num = random.randint(0, 4)\n",
        "\n",
        "# 変数numの値を出力\n",
        "print(num)\n",
        "\n",
        "# 変数numの値が４なら「大当たりです」，それ以外なら「はずれです」と出力する\n",
        "if num == 4:\n",
        "    print(\"大当たりです\")\n",
        "else:\n",
        "    print(\"はずれです\")"
      ],
      "metadata": {
        "colab": {
          "base_uri": "https://localhost:8080/"
        },
        "id": "Pqs7rSD5CY-f",
        "outputId": "3a0c866f-5a43-4108-f9b3-c2fba14e33bc"
      },
      "execution_count": 21,
      "outputs": [
        {
          "output_type": "stream",
          "name": "stdout",
          "text": [
            "2\n",
            "はずれです\n"
          ]
        }
      ]
    },
    {
      "cell_type": "code",
      "source": [
        "# ランダムな整数を利用するために，randomモジュールをインポート\n",
        "import random\n",
        "\n",
        "# 変数numに０～４までのランダムな整数を代入する\n",
        "num = random.randint(0, 4)\n",
        "\n",
        "# 変数numの値を出力\n",
        "print(num)\n",
        "\n",
        "# 変数numの値が４なら「大当たりです」，３なら「当たりです｝，それ以外なら「はずれです」と出力する\n",
        "if num == 4:\n",
        "    print(\"大当たりです\")\n",
        "elif num == 3:\n",
        "    print(\"当たりです\")\n",
        "else:\n",
        "    print(\"はずれです\")"
      ],
      "metadata": {
        "colab": {
          "base_uri": "https://localhost:8080/"
        },
        "id": "VASlN7oYDGyb",
        "outputId": "376efe01-56b4-4d1f-9120-6b7ccb28204d"
      },
      "execution_count": 42,
      "outputs": [
        {
          "output_type": "stream",
          "name": "stdout",
          "text": [
            "4\n",
            "大当たりです\n"
          ]
        }
      ]
    },
    {
      "cell_type": "code",
      "source": [
        "# ランダムな整数を利用するために，randomモジュールをインポート\n",
        "import random\n",
        "\n",
        "# 変数numに０～４までのランダムな整数を代入する\n",
        "num = random.randint(0,4)\n",
        "\n",
        "# 変数numの値を出力\n",
        "print(num)\n",
        "\n",
        "# すべての条件が成り立つ場合にのみ処理を行う（変数numの値が２）\n",
        "if 1 < num and num < 3:\n",
        "    print(\"変数numは1より大きく，3より小さいです\")\n",
        "else:\n",
        "    print(\"and条件が成り立ちませんでした\")\n",
        "\n",
        "# １つでも条件が成り立てば処理を行う（変数numの値が１または３）\n",
        "if num == 1 or num == 3:\n",
        "    print(\"変数numは１または３です\")\n",
        "else:\n",
        "    print(\"or条件が成り立ちませんでした\")"
      ],
      "metadata": {
        "colab": {
          "base_uri": "https://localhost:8080/"
        },
        "id": "Z7-z5A_rEcUW",
        "outputId": "d3760784-7250-46c4-e600-64a091682ade"
      },
      "execution_count": 45,
      "outputs": [
        {
          "output_type": "stream",
          "name": "stdout",
          "text": [
            "1\n",
            "and条件が成り立ちませんでした\n",
            "変数numは１または３です\n"
          ]
        }
      ]
    },
    {
      "cell_type": "code",
      "source": [
        "for i in range(1, 11):\n",
        "  print(i)"
      ],
      "metadata": {
        "colab": {
          "base_uri": "https://localhost:8080/"
        },
        "id": "f8otjFXGEKBS",
        "outputId": "25920c5e-f9e6-4a48-e107-de94a07d6c0c"
      },
      "execution_count": 46,
      "outputs": [
        {
          "output_type": "stream",
          "name": "stdout",
          "text": [
            "1\n",
            "2\n",
            "3\n",
            "4\n",
            "5\n",
            "6\n",
            "7\n",
            "8\n",
            "9\n",
            "10\n"
          ]
        }
      ]
    },
    {
      "cell_type": "code",
      "source": [
        "# ランダムな整数を利用するため，記述が必要．\n",
        "import random\n",
        "\n",
        "for i in range(1,11):\n",
        "  # 変数numに１～２０までのランダムな整数を代入する\n",
        "  num = random.randint(1,20)\n",
        "\n",
        "  print(f\"{i}回目の結果は{num}です．\")\n",
        "\n",
        "  # 変数numの値が２０であれば，break文で繰り返し処理を強制終了する\n",
        "  if num == 20:\n",
        "    print(\"20が出たので繰り返し処理を強制終了します．\")\n",
        "    break"
      ],
      "metadata": {
        "colab": {
          "base_uri": "https://localhost:8080/"
        },
        "id": "76Q1PieTJF0K",
        "outputId": "3925d3a5-d74f-4bfc-911c-55d37a7a147f"
      },
      "execution_count": 49,
      "outputs": [
        {
          "output_type": "stream",
          "name": "stdout",
          "text": [
            "1回目の結果は5です．\n",
            "2回目の結果は17です．\n",
            "3回目の結果は18です．\n",
            "4回目の結果は20です．\n",
            "20が出たので繰り返し処理を強制終了します．\n"
          ]
        }
      ]
    },
    {
      "cell_type": "code",
      "source": [
        "for i in range(1, 11):\n",
        "  # ループ変数iの値が奇数（２で割った余りが１）であれば，値を出力せずにcontinue文で次のループに進む．\n",
        "  if i % 2 == 1:\n",
        "    continue\n",
        "\n",
        "  print(i)"
      ],
      "metadata": {
        "colab": {
          "base_uri": "https://localhost:8080/"
        },
        "id": "qekOXBPHKLQb",
        "outputId": "6f7315f8-8fa2-4cd0-b341-3de71cfaf7a4"
      },
      "execution_count": 63,
      "outputs": [
        {
          "output_type": "stream",
          "name": "stdout",
          "text": [
            "2\n",
            "4\n",
            "6\n",
            "8\n",
            "10\n"
          ]
        }
      ]
    },
    {
      "cell_type": "code",
      "source": [
        "# ランダムな整数を利用するため記述が必要．\n",
        "import random\n",
        "\n",
        "# 変数numに０～４までのランダムな整数を代入する\n",
        "num = random.randint(0, 4)\n",
        "\n",
        "# 変数numの最初の値を出力する(確認用)\n",
        "print(f\"最初の値は{num}です．\")\n",
        "\n",
        "# 変数numの値が０以外である間，変数numの値を代入し続ける\n",
        "while num != 0:\n",
        "  # 変数numに０～４までのランダムな整数を代入する\n",
        "  num = random.randint(0, 4)\n",
        "\n",
        "  # 次の条件式で比較される，変数numの現在の値を出力する\n",
        "  print(f\"現在の値は{num}です．\")"
      ],
      "metadata": {
        "colab": {
          "base_uri": "https://localhost:8080/"
        },
        "id": "OESg4MYiK0Tp",
        "outputId": "6c9622d2-72a3-4662-edab-b6ec098cf8a7"
      },
      "execution_count": 87,
      "outputs": [
        {
          "output_type": "stream",
          "name": "stdout",
          "text": [
            "最初の値は2です．\n",
            "現在の値は1です．\n",
            "現在の値は3です．\n",
            "現在の値は3です．\n",
            "現在の値は2です．\n",
            "現在の値は2です．\n",
            "現在の値は3です．\n",
            "現在の値は1です．\n",
            "現在の値は0です．\n"
          ]
        }
      ]
    },
    {
      "cell_type": "code",
      "source": [
        "# ランダムな整数を利用するため，記述が必要．\n",
        "import random\n",
        "\n",
        "# 変数numに０～４までのランダムな整数を代入する\n",
        "num = random.randint(0, 4)\n",
        "\n",
        "# カウンタ変数を用意する\n",
        "i = 1\n",
        "\n",
        "# 変数numの最初の値を出力する(確認用)\n",
        "print(f\"最初の値は{num}です．\")\n",
        "\n",
        "# 変数numの値が０以外である間，変数numの値を出力し続ける\n",
        "while num != 0:\n",
        "  # 変数numに０～４までのランダムな整数を代入する\n",
        "  num = random.randint(0, 4)\n",
        "\n",
        "  # カウンタ変数iの値が５であれば，break文で繰り返し処理を強制終了する\n",
        "  if i == 5:\n",
        "    print(\"5回目なので繰り返し処理を強制終了します．\")\n",
        "    break\n",
        "\n",
        "  # 次の条件式で比較される，変数numの現在の値を出力する\n",
        "  print(f\"現在の値は{num}です．\")\n",
        "  # カウンタ変数の値を1増やす\n",
        "  i = i + 1"
      ],
      "metadata": {
        "colab": {
          "base_uri": "https://localhost:8080/"
        },
        "id": "sIxp5ksaMy5e",
        "outputId": "98992004-3eb3-4530-f95d-eecb701d7398"
      },
      "execution_count": 110,
      "outputs": [
        {
          "output_type": "stream",
          "name": "stdout",
          "text": [
            "最初の値は2です．\n",
            "現在の値は3です．\n",
            "現在の値は2です．\n",
            "現在の値は4です．\n",
            "現在の値は2です．\n",
            "5回目なので繰り返し処理を強制終了します．\n"
          ]
        }
      ]
    },
    {
      "cell_type": "code",
      "source": [
        "# ランダムな整数を利用するため，記述が必要．\n",
        "import random\n",
        "\n",
        "# 合計用の変数を用意する\n",
        "sum = 0\n",
        "\n",
        "# 変数sumの値が２０以上になるまで繰り返し処理を行う\n",
        "while sum < 20:\n",
        "  # 変数numに１～１０までのランダムな整数を代入する\n",
        "  num = random.randint(1, 10)\n",
        "\n",
        "  print(f\"{num}が出ました．\")\n",
        "\n",
        "  # 変数numの値が偶数(２で割った余りが０)であれば，加算せずにcontinue文で次のループに進む\n",
        "  if num % 2 == 0:\n",
        "    print(\"偶数なので加算しません\")\n",
        "    continue\n",
        "\n",
        "  # 変数sumに変数numの値を加算する\n",
        "  sum = sum + num\n",
        "  print(f\"現在の合計は{sum}です．\")"
      ],
      "metadata": {
        "colab": {
          "base_uri": "https://localhost:8080/"
        },
        "id": "X7URyEnEPZh9",
        "outputId": "6c9fc2a4-06b4-4597-e8c5-f73f9952e204"
      },
      "execution_count": 111,
      "outputs": [
        {
          "output_type": "stream",
          "name": "stdout",
          "text": [
            "8が出ました．\n",
            "偶数なので加算しません\n",
            "2が出ました．\n",
            "偶数なので加算しません\n",
            "5が出ました．\n",
            "現在の合計は5です．\n",
            "8が出ました．\n",
            "偶数なので加算しません\n",
            "2が出ました．\n",
            "偶数なので加算しません\n",
            "4が出ました．\n",
            "偶数なので加算しません\n",
            "6が出ました．\n",
            "偶数なので加算しません\n",
            "7が出ました．\n",
            "現在の合計は12です．\n",
            "7が出ました．\n",
            "現在の合計は19です．\n",
            "3が出ました．\n",
            "現在の合計は22です．\n"
          ]
        }
      ]
    },
    {
      "cell_type": "code",
      "source": [],
      "metadata": {
        "id": "HBwT7QYzRqNo"
      },
      "execution_count": null,
      "outputs": []
    }
  ],
  "metadata": {
    "colab": {
      "provenance": []
    },
    "kernelspec": {
      "display_name": "Python 3",
      "name": "python3"
    }
  },
  "nbformat": 4,
  "nbformat_minor": 0
}